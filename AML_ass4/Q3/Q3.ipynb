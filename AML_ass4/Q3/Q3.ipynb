{
 "cells": [
  {
   "cell_type": "code",
   "execution_count": 1,
   "metadata": {},
   "outputs": [],
   "source": [
    "import pandas as pd\n",
    "import numpy as np\n",
    "from sklearn.cluster import KMeans\n",
    "import matplotlib.pyplot as plt\n",
    "from sklearn.metrics.pairwise import euclidean_distances"
   ]
  },
  {
   "cell_type": "code",
   "execution_count": 2,
   "metadata": {},
   "outputs": [],
   "source": [
    "df = pd.read_csv('dataset1.txt',header=None, sep=' ')"
   ]
  },
  {
   "cell_type": "code",
   "execution_count": 3,
   "metadata": {},
   "outputs": [
    {
     "data": {
      "text/html": [
       "<div>\n",
       "<style scoped>\n",
       "    .dataframe tbody tr th:only-of-type {\n",
       "        vertical-align: middle;\n",
       "    }\n",
       "\n",
       "    .dataframe tbody tr th {\n",
       "        vertical-align: top;\n",
       "    }\n",
       "\n",
       "    .dataframe thead th {\n",
       "        text-align: right;\n",
       "    }\n",
       "</style>\n",
       "<table border=\"1\" class=\"dataframe\">\n",
       "  <thead>\n",
       "    <tr style=\"text-align: right;\">\n",
       "      <th></th>\n",
       "      <th>0</th>\n",
       "      <th>1</th>\n",
       "    </tr>\n",
       "  </thead>\n",
       "  <tbody>\n",
       "    <tr>\n",
       "      <th>0</th>\n",
       "      <td>1.489034</td>\n",
       "      <td>-0.372265</td>\n",
       "    </tr>\n",
       "    <tr>\n",
       "      <th>1</th>\n",
       "      <td>-0.993560</td>\n",
       "      <td>0.113308</td>\n",
       "    </tr>\n",
       "    <tr>\n",
       "      <th>2</th>\n",
       "      <td>1.375386</td>\n",
       "      <td>-0.426868</td>\n",
       "    </tr>\n",
       "    <tr>\n",
       "      <th>3</th>\n",
       "      <td>-0.856408</td>\n",
       "      <td>0.516299</td>\n",
       "    </tr>\n",
       "    <tr>\n",
       "      <th>4</th>\n",
       "      <td>0.446398</td>\n",
       "      <td>-0.332782</td>\n",
       "    </tr>\n",
       "  </tbody>\n",
       "</table>\n",
       "</div>"
      ],
      "text/plain": [
       "          0         1\n",
       "0  1.489034 -0.372265\n",
       "1 -0.993560  0.113308\n",
       "2  1.375386 -0.426868\n",
       "3 -0.856408  0.516299\n",
       "4  0.446398 -0.332782"
      ]
     },
     "execution_count": 3,
     "metadata": {},
     "output_type": "execute_result"
    }
   ],
   "source": [
    "df.head()"
   ]
  },
  {
   "cell_type": "code",
   "execution_count": 4,
   "metadata": {},
   "outputs": [],
   "source": [
    "points= df.values\n",
    "x_point = df[0]\n",
    "y_point= df[1]"
   ]
  },
  {
   "cell_type": "code",
   "execution_count": 5,
   "metadata": {},
   "outputs": [
    {
     "data": {
      "text/plain": [
       "500"
      ]
     },
     "execution_count": 5,
     "metadata": {},
     "output_type": "execute_result"
    }
   ],
   "source": [
    "len(df)"
   ]
  },
  {
   "cell_type": "code",
   "execution_count": 6,
   "metadata": {},
   "outputs": [],
   "source": [
    "kmeans = KMeans(n_clusters=2, random_state=0).fit(points)"
   ]
  },
  {
   "cell_type": "code",
   "execution_count": 7,
   "metadata": {},
   "outputs": [
    {
     "data": {
      "text/plain": [
       "<matplotlib.collections.PathCollection at 0x7f7f2068da58>"
      ]
     },
     "execution_count": 7,
     "metadata": {},
     "output_type": "execute_result"
    },
    {
     "data": {
      "image/png": "[encoded data removed]",
      "text/plain": [
       "<Figure size 432x288 with 1 Axes>"
      ]
     },
     "metadata": {
      "needs_background": "light"
     },
     "output_type": "display_data"
    }
   ],
   "source": [
    "plt.scatter(x_point,y_point,c=kmeans.labels_.astype(float))"
   ]
  },
  {
   "cell_type": "code",
   "execution_count": 8,
   "metadata": {},
   "outputs": [],
   "source": [
    "def getNeighbouringNodes(points_array, epsilon,point):\n",
    "    list_indices=[]\n",
    "    for i in range(points_array.shape[0]):\n",
    "        dist = np.linalg.norm(point-points_array[i])\n",
    "        if dist<=epsilon and dist>0:\n",
    "            list_indices.append(i)\n",
    "    return list_indices"
   ]
  },
  {
   "cell_type": "code",
   "execution_count": 9,
   "metadata": {},
   "outputs": [],
   "source": [
    "def formClusters(possible_indices, isit_visited,min_points,epsilon,cluster_count,cluster, to_visit_index,points_array):\n",
    "    isit_visited[to_visit_index]=1 # label it as visited\n",
    "    \n",
    "    if cluster[to_visit_index] == -1:\n",
    "        if len(possible_indices)>=min_points:\n",
    "            cluster[to_visit_index]= cluster_count # assign it to a cluster\n",
    "            for i in possible_indices:\n",
    "                point= points_array[i]\n",
    "                neighbour_indices= getNeighbouringNodes(points_array,epsilon,point)\n",
    "                if isit_visited[i]==0:\n",
    "                    formClusters(neighbour_indices, isit_visited,min_points,epsilon,cluster_count,cluster,i,points_array)\n",
    "        elif len(possible_indices)<min_points:\n",
    "            cluster[to_visit_index]= 0 # assign it to a cluster\n",
    "        "
   ]
  },
  {
   "cell_type": "code",
   "execution_count": 10,
   "metadata": {},
   "outputs": [],
   "source": [
    "# implement DBScan\n",
    "def DBScanImpl(points_array,epsilon,min_points):\n",
    "    # mark all the points as unvisited\n",
    "    #get the number of points\n",
    "    isit_visited=[0]*(points.shape[0])\n",
    "    cluster=[-1]*(points.shape[0])\n",
    "#     epsilon=0.5 # this is for the first question\n",
    "#     min_points= 20 # this is for the first question\n",
    "    cluster_count=0\n",
    "    #create an array and put 0 for unvisited in all positions\n",
    "    while 0 in isit_visited:\n",
    "        print(\"Enters for a cluster\")\n",
    "        if cluster_count in cluster or cluster_count==0 :\n",
    "            cluster_count=cluster_count+1\n",
    "        to_visit_index= isit_visited.index(0)\n",
    "        print(\"Node visited is \",to_visit_index)\n",
    "        point= points_array[to_visit_index]\n",
    "        possible_indices= getNeighbouringNodes(points_array,epsilon,point)\n",
    "        print(\"Number of points closer is \",len(possible_indices))\n",
    "        formClusters(possible_indices, isit_visited,min_points,epsilon,cluster_count,cluster,to_visit_index,points_array)\n",
    "#     print(\"Cluster array is \",cluster)\n",
    "#         for i in range(len(possible_indices)):\n",
    "#             isitvisited[i] = 1\n",
    "#         if len(possible_indices)< min_points: # this is a boundary pointprint()     \n",
    "    return cluster"
   ]
  },
  {
   "cell_type": "code",
   "execution_count": 11,
   "metadata": {},
   "outputs": [
    {
     "data": {
      "text/plain": [
       "[<matplotlib.lines.Line2D at 0x7f7f2060bcc0>]"
      ]
     },
     "execution_count": 11,
     "metadata": {},
     "output_type": "execute_result"
    },
    {
     "data": {
      "image/png": "[encoded data removed]",
      "text/plain": [
       "<Figure size 432x288 with 1 Axes>"
      ]
     },
     "metadata": {
      "needs_background": "light"
     },
     "output_type": "display_data"
    }
   ],
   "source": [
    "# need to implement the elbow method  to find the optimal epsilon and minPoints\n",
    "y_axis_dist=[]\n",
    "for i in range(points.shape[0]):\n",
    "    distance_list=[]\n",
    "    point = points[i]\n",
    "    for j in range(points.shape[0]):\n",
    "        dist = np.linalg.norm(point-points[j])\n",
    "        if dist>0:\n",
    "            distance_list.append(dist)\n",
    "    distance_list.sort()\n",
    "    kthdistance = distance_list[19] # choosing k as 4\n",
    "    y_axis_dist.append(kthdistance)\n",
    "x_axis_point = [x for x in range(500)]\n",
    "y_axis_point= np.sort(y_axis_dist)\n",
    "plt.plot(x_axis_point,y_axis_point)\n"
   ]
  },
  {
   "cell_type": "code",
   "execution_count": 12,
   "metadata": {},
   "outputs": [
    {
     "name": "stdout",
     "output_type": "stream",
     "text": [
      "Enters for a cluster\n",
      "Node visited is  0\n",
      "Number of points closer is  40\n",
      "Enters for a cluster\n",
      "Node visited is  1\n",
      "Number of points closer is  29\n"
     ]
    }
   ],
   "source": [
    "cluster_mapping= DBScanImpl(points,0.255,20)"
   ]
  },
  {
   "cell_type": "code",
   "execution_count": 13,
   "metadata": {},
   "outputs": [
    {
     "data": {
      "text/plain": [
       "<matplotlib.collections.PathCollection at 0x7f7f205cfc50>"
      ]
     },
     "execution_count": 13,
     "metadata": {},
     "output_type": "execute_result"
    },
    {
     "data": {
      "image/png": "[encoded data removed]",
      "text/plain": [
       "<Figure size 432x288 with 1 Axes>"
      ]
     },
     "metadata": {
      "needs_background": "light"
     },
     "output_type": "display_data"
    }
   ],
   "source": [
    "plt.scatter(x_point,y_point,c=cluster_mapping)"
   ]
  },
  {
   "cell_type": "code",
   "execution_count": 14,
   "metadata": {},
   "outputs": [],
   "source": [
    "df1 = pd.read_csv('dataset2.txt',header=None, sep=' ')"
   ]
  },
  {
   "cell_type": "code",
   "execution_count": 15,
   "metadata": {},
   "outputs": [
    {
     "data": {
      "text/html": [
       "<div>\n",
       "<style scoped>\n",
       "    .dataframe tbody tr th:only-of-type {\n",
       "        vertical-align: middle;\n",
       "    }\n",
       "\n",
       "    .dataframe tbody tr th {\n",
       "        vertical-align: top;\n",
       "    }\n",
       "\n",
       "    .dataframe thead th {\n",
       "        text-align: right;\n",
       "    }\n",
       "</style>\n",
       "<table border=\"1\" class=\"dataframe\">\n",
       "  <thead>\n",
       "    <tr style=\"text-align: right;\">\n",
       "      <th></th>\n",
       "      <th>0</th>\n",
       "      <th>1</th>\n",
       "    </tr>\n",
       "  </thead>\n",
       "  <tbody>\n",
       "    <tr>\n",
       "      <th>0</th>\n",
       "      <td>9.359071</td>\n",
       "      <td>0.337273</td>\n",
       "    </tr>\n",
       "    <tr>\n",
       "      <th>1</th>\n",
       "      <td>-1.136104</td>\n",
       "      <td>4.229264</td>\n",
       "    </tr>\n",
       "    <tr>\n",
       "      <th>2</th>\n",
       "      <td>-1.818084</td>\n",
       "      <td>4.651985</td>\n",
       "    </tr>\n",
       "    <tr>\n",
       "      <th>3</th>\n",
       "      <td>-8.952252</td>\n",
       "      <td>5.983762</td>\n",
       "    </tr>\n",
       "    <tr>\n",
       "      <th>4</th>\n",
       "      <td>-6.636040</td>\n",
       "      <td>5.606801</td>\n",
       "    </tr>\n",
       "  </tbody>\n",
       "</table>\n",
       "</div>"
      ],
      "text/plain": [
       "          0         1\n",
       "0  9.359071  0.337273\n",
       "1 -1.136104  4.229264\n",
       "2 -1.818084  4.651985\n",
       "3 -8.952252  5.983762\n",
       "4 -6.636040  5.606801"
      ]
     },
     "execution_count": 15,
     "metadata": {},
     "output_type": "execute_result"
    }
   ],
   "source": [
    "df1.head()"
   ]
  },
  {
   "cell_type": "code",
   "execution_count": 16,
   "metadata": {},
   "outputs": [],
   "source": [
    "points1= df1.values\n",
    "x_point1 = df1[0]\n",
    "y_point1= df1[1]"
   ]
  },
  {
   "cell_type": "code",
   "execution_count": 17,
   "metadata": {},
   "outputs": [],
   "source": [
    "kmeans1 = KMeans(n_clusters=2, random_state=0).fit(points1)"
   ]
  },
  {
   "cell_type": "code",
   "execution_count": 18,
   "metadata": {},
   "outputs": [
    {
     "data": {
      "text/plain": [
       "<matplotlib.collections.PathCollection at 0x7f7f20595048>"
      ]
     },
     "execution_count": 18,
     "metadata": {},
     "output_type": "execute_result"
    },
    {
     "data": {
      "image/png": "[encoded data removed]",
      "text/plain": [
       "<Figure size 432x288 with 1 Axes>"
      ]
     },
     "metadata": {
      "needs_background": "light"
     },
     "output_type": "display_data"
    }
   ],
   "source": [
    "plt.scatter(x_point1,y_point1,c=kmeans1.labels_.astype(float))"
   ]
  },
  {
   "cell_type": "code",
   "execution_count": 19,
   "metadata": {},
   "outputs": [
    {
     "data": {
      "text/plain": [
       "[<matplotlib.lines.Line2D at 0x7f7f2054d2b0>]"
      ]
     },
     "execution_count": 19,
     "metadata": {},
     "output_type": "execute_result"
    },
    {
     "data": {
      "image/png": "[encoded data removed]",
      "text/plain": [
       "<Figure size 432x288 with 1 Axes>"
      ]
     },
     "metadata": {
      "needs_background": "light"
     },
     "output_type": "display_data"
    }
   ],
   "source": [
    "y_axis_dist=[]\n",
    "for i in range(points1.shape[0]):\n",
    "    distance_list=[]\n",
    "    point = points1[i]\n",
    "    for j in range(points1.shape[0]):\n",
    "        dist = np.linalg.norm(point-points1[j])\n",
    "        if dist>0:\n",
    "            distance_list.append(dist)\n",
    "    distance_list.sort()\n",
    "    kthdistance = distance_list[2] # choosing k as 20\n",
    "    y_axis_dist.append(kthdistance)\n",
    "x_axis_point = [x for x in range(500)]\n",
    "y_axis_point= np.sort(y_axis_dist)\n",
    "plt.plot(x_axis_point,y_axis_point)\n"
   ]
  },
  {
   "cell_type": "code",
   "execution_count": 20,
   "metadata": {},
   "outputs": [
    {
     "name": "stdout",
     "output_type": "stream",
     "text": [
      "Enters for a cluster\n",
      "Node visited is  0\n",
      "Number of points closer is  178\n",
      "Enters for a cluster\n",
      "Node visited is  495\n",
      "Number of points closer is  4\n"
     ]
    }
   ],
   "source": [
    "cluster_mapping=DBScanImpl(points1,10,2) # 15,2"
   ]
  },
  {
   "cell_type": "code",
   "execution_count": 21,
   "metadata": {},
   "outputs": [
    {
     "data": {
      "text/plain": [
       "<matplotlib.collections.PathCollection at 0x7f7f20501b38>"
      ]
     },
     "execution_count": 21,
     "metadata": {},
     "output_type": "execute_result"
    },
    {
     "data": {
      "image/png": "[encoded data removed]",
      "text/plain": [
       "<Figure size 432x288 with 1 Axes>"
      ]
     },
     "metadata": {
      "needs_background": "light"
     },
     "output_type": "display_data"
    }
   ],
   "source": [
    "plt.scatter(x_point1,y_point1,c=cluster_mapping,cmap='rainbow')"
   ]
  },
  {
   "cell_type": "code",
   "execution_count": null,
   "metadata": {},
   "outputs": [],
   "source": []
  },
  {
   "cell_type": "code",
   "execution_count": null,
   "metadata": {},
   "outputs": [],
   "source": []
  }
 ],
 "metadata": {
  "kernelspec": {
   "display_name": "Python 3",
   "language": "python",
   "name": "python3"
  },
  "language_info": {
   "codemirror_mode": {
    "name": "ipython",
    "version": 3
   },
   "file_extension": ".py",
   "mimetype": "text/x-python",
   "name": "python",
   "nbconvert_exporter": "python",
   "pygments_lexer": "ipython3",
   "version": "3.5.2"
  }
 },
 "nbformat": 4,
 "nbformat_minor": 2
}
