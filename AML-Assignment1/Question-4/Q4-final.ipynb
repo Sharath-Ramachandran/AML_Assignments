{
 "cells": [
  {
   "cell_type": "markdown",
   "metadata": {},
   "source": [
    "The top 2 accuracies are 72.274 (For Multinomial Naive Bayes) and 67.015( In KNN for k=10 and set weights parameter to \"distance\"). The various versions that were tried out are added in the Result-info.txt. \n",
    "All the three versions were tried and the output is noted down"
   ]
  },
  {
   "cell_type": "code",
   "execution_count": 1,
   "metadata": {},
   "outputs": [],
   "source": [
    "from sklearn.naive_bayes import MultinomialNB\n",
    "from sklearn.naive_bayes import BernoulliNB\n",
    "from sklearn.neighbors import KNeighborsClassifier\n",
    "from sklearn import tree\n",
    "from sklearn import preprocessing\n",
    "import numpy as np\n",
    "import json\n",
    "import pandas as pd\n",
    "from sklearn.feature_extraction.text import CountVectorizer"
   ]
  },
  {
   "cell_type": "code",
   "execution_count": 2,
   "metadata": {},
   "outputs": [],
   "source": [
    "train_data=[]\n",
    "train_label=[]\n",
    "test_data=[]\n",
    "test_label=[]"
   ]
  },
  {
   "cell_type": "code",
   "execution_count": 3,
   "metadata": {},
   "outputs": [],
   "source": [
    "vectorizer = CountVectorizer()"
   ]
  },
  {
   "cell_type": "code",
   "execution_count": 4,
   "metadata": {},
   "outputs": [],
   "source": [
    "json_data_df= pd.read_json(\"whats-cooking/train.json\",orient=\"columns\") # convert the json file into a dataframe\n",
    "json_data_df['ingredients']=json_data_df['ingredients'].apply(', '.join) \n",
    "train_data = vectorizer.fit_transform(json_data_df['ingredients']).todense()\n",
    "train_label=json_data_df[\"cuisine\"]"
   ]
  },
  {
   "cell_type": "code",
   "execution_count": 5,
   "metadata": {},
   "outputs": [],
   "source": [
    "json_data_test_df= pd.read_json(\"whats-cooking/test.json\",orient=\"columns\")\n",
    "json_data_test_df['ingredients']=json_data_test_df['ingredients'].apply(', '.join)\n",
    "test_data = vectorizer.transform(json_data_test_df['ingredients']).todense()"
   ]
  },
  {
   "cell_type": "code",
   "execution_count": 6,
   "metadata": {},
   "outputs": [
    {
     "name": "stdout",
     "output_type": "stream",
     "text": [
      "MultinomialNB(alpha=1.0, class_prior=None, fit_prior=True)\n"
     ]
    }
   ],
   "source": [
    "#Uncomment this for Multinomial Naive Bayes\n",
    "clf = MultinomialNB() # gives accuracy of 72.24\n",
    "#clf= MultinomialNB(alpha=1.5) # gives accuracy of 71.98\n",
    "clf = clf.fit(train_data, train_label)\n",
    "print(clf)"
   ]
  },
  {
   "cell_type": "code",
   "execution_count": null,
   "metadata": {},
   "outputs": [],
   "source": [
    "#Uncomment this for Bernoulli Naive Bayes\n",
    "# clf = BernoulliNB() # gives accuracy of 71.44\n",
    "# clf = clf.fit(train_data, train_label)\n",
    "# print(clf)"
   ]
  },
  {
   "cell_type": "code",
   "execution_count": 7,
   "metadata": {},
   "outputs": [],
   "source": [
    "#Uncomment this for knn code evaluation \n",
    "#train_data = vectorizer.fit_transform(json_data_df['ingredients'])\n",
    "#train_label=json_data_df[\"cuisine\"]\n",
    "#test_data = vectorizer.transform(json_data_test_df['ingredients'])\n",
    "#clf = KNeighborsClassifier(n_neighbors=10,weights='distance')# gives accuracy of about 67.015\n",
    "#clf = KNeighborsClassifier(n_neighbors=9,weights='distance')#gives accuracy of 66.8\n",
    "#clf = KNeighborsClassifier(n_neighbors=11,weights='distance')#gives accuracy of 66.8\n",
    "#clf = KNeighborsClassifier(n_neighbors=12,weights='distance')#gives accuracy of 66.8\n",
    "#clf.fit(train_data, train_label) \n",
    "#print(clf)"
   ]
  },
  {
   "cell_type": "code",
   "execution_count": 8,
   "metadata": {},
   "outputs": [],
   "source": [
    "#Uncomment this for decision tree code\n",
    "# this decision tree classifier gave an accutracy of about 64.491% which was the highest in the decision trees\n",
    "# the other variations which gave lesser results are present in the Results.txt\n",
    "# train_data = vectorizer.fit_transform(json_data_df['ingredients'])\n",
    "# train_label=json_data_df[\"cuisine\"]\n",
    "# test_data = vectorizer.transform(json_data_test_df['ingredients'])\n",
    "# clf= tree.DecisionTreeClassifier(max_depth=80, max_features=0.99)# accuracy of 64.48\n",
    "# clf = tree.DecisionTreeClassifier()  # accuracy of 64.2\n",
    "# clf = clf.fit(train_data, train_label)"
   ]
  },
  {
   "cell_type": "code",
   "execution_count": 9,
   "metadata": {},
   "outputs": [],
   "source": [
    "test_label=clf.predict(test_data)"
   ]
  },
  {
   "cell_type": "code",
   "execution_count": 10,
   "metadata": {},
   "outputs": [],
   "source": [
    "json_data_test_df[\"cuisine\"]=test_label"
   ]
  },
  {
   "cell_type": "code",
   "execution_count": 11,
   "metadata": {},
   "outputs": [],
   "source": [
    "json_data_test_df[['id' , 'cuisine' ]].to_csv(\"submission.csv\", index=False)"
   ]
  }
 ],
 "metadata": {
  "kernelspec": {
   "display_name": "Python 3",
   "language": "python",
   "name": "python3"
  },
  "language_info": {
   "codemirror_mode": {
    "name": "ipython",
    "version": 3
   },
   "file_extension": ".py",
   "mimetype": "text/x-python",
   "name": "python",
   "nbconvert_exporter": "python",
   "pygments_lexer": "ipython3",
   "version": "3.6.8"
  }
 },
 "nbformat": 4,
 "nbformat_minor": 2
}
