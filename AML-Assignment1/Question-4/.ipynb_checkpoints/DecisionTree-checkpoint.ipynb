{
 "cells": [
  {
   "cell_type": "code",
   "execution_count": 1,
   "metadata": {},
   "outputs": [],
   "source": [
    "from sklearn import tree\n",
    "from sklearn import preprocessing\n",
    "import numpy as np\n",
    "import json\n",
    "import pandas as pd\n",
    "from sklearn.feature_extraction.text import CountVectorizer"
   ]
  },
  {
   "cell_type": "code",
   "execution_count": 2,
   "metadata": {},
   "outputs": [],
   "source": [
    "train_data=[]\n",
    "train_label=[]\n",
    "test_data=[]\n",
    "test_label=[]"
   ]
  },
  {
   "cell_type": "code",
   "execution_count": 3,
   "metadata": {},
   "outputs": [],
   "source": [
    "vectorizer = CountVectorizer()"
   ]
  },
  {
   "cell_type": "code",
   "execution_count": 4,
   "metadata": {},
   "outputs": [],
   "source": [
    "json_data_df= pd.read_json(\"whats-cooking/train.json\",orient=\"columns\")\n",
    "#test=json_data_df.head(10)\n",
    "json_data_df['ingredients']=json_data_df['ingredients'].apply(', '.join)\n",
    "train_data = vectorizer.fit_transform(json_data_df['ingredients'])\n",
    "#print(type(train_data))\n",
    "#print(train_data)\n",
    "#le = preprocessing.LabelEncoder()\n",
    "#le.fit(json_data_df.cuisine.unique())\n",
    "train_label=json_data_df[\"cuisine\"]#le.transform(json_data_df[\"cuisine\"])\n",
    "#print(train_label.shape)\n",
    "#print(train_data.shape)"
   ]
  },
  {
   "cell_type": "code",
   "execution_count": null,
   "metadata": {},
   "outputs": [],
   "source": []
  },
  {
   "cell_type": "code",
   "execution_count": 5,
   "metadata": {},
   "outputs": [
    {
     "name": "stdout",
     "output_type": "stream",
     "text": [
      "(9944, 3010)\n"
     ]
    }
   ],
   "source": [
    "json_data_test_df= pd.read_json(\"whats-cooking/test.json\",orient=\"columns\")\n",
    "json_data_test_df['ingredients']=json_data_test_df['ingredients'].apply(', '.join)\n",
    "test_data = vectorizer.transform(json_data_test_df['ingredients'])\n",
    "#print(type(train_data))\n",
    "print(test_data.shape)"
   ]
  },
  {
   "cell_type": "code",
   "execution_count": null,
   "metadata": {},
   "outputs": [],
   "source": []
  },
  {
   "cell_type": "code",
   "execution_count": 6,
   "metadata": {},
   "outputs": [],
   "source": [
    "clf = tree.DecisionTreeClassifier()\n",
    "clf = clf.fit(train_data, train_label)\n"
   ]
  },
  {
   "cell_type": "code",
   "execution_count": 7,
   "metadata": {},
   "outputs": [],
   "source": [
    "test_label=clf.predict(test_data)"
   ]
  },
  {
   "cell_type": "code",
   "execution_count": 8,
   "metadata": {},
   "outputs": [],
   "source": [
    "json_data_test_df[\"cuisine\"]=test_label\n",
    "#json_data_test_df[\"cuisine\"]=list(le.inverse_transform(test_label))"
   ]
  },
  {
   "cell_type": "code",
   "execution_count": 9,
   "metadata": {},
   "outputs": [],
   "source": [
    "json_data_test_df[['id' , 'cuisine' ]].to_csv(\"submission.csv\", index=False)"
   ]
  }
 ],
 "metadata": {
  "kernelspec": {
   "display_name": "Python 3",
   "language": "python",
   "name": "python3"
  },
  "language_info": {
   "codemirror_mode": {
    "name": "ipython",
    "version": 3
   },
   "file_extension": ".py",
   "mimetype": "text/x-python",
   "name": "python",
   "nbconvert_exporter": "python",
   "pygments_lexer": "ipython3",
   "version": "3.6.8"
  }
 },
 "nbformat": 4,
 "nbformat_minor": 2
}
