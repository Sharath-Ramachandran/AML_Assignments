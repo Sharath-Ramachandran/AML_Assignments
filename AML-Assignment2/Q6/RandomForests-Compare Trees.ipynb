{
 "cells": [
  {
   "cell_type": "code",
   "execution_count": 1,
   "metadata": {},
   "outputs": [],
   "source": [
    "import numpy as np\n",
    "import pandas as pd\n",
    "import csv\n",
    "import math\n",
    "from sklearn.model_selection import train_test_split\n",
    "import random\n",
    "from collections import Counter\n",
    "import time\n",
    "from sklearn.ensemble import RandomForestClassifier\n",
    "from sklearn.model_selection import train_test_split\n",
    "import matplotlib.pyplot as plt"
   ]
  },
  {
   "cell_type": "code",
   "execution_count": 2,
   "metadata": {},
   "outputs": [],
   "source": [
    "np.random.seed(0)"
   ]
  },
  {
   "cell_type": "code",
   "execution_count": 3,
   "metadata": {},
   "outputs": [],
   "source": [
    "def calculateInitialGinni(training_set):\n",
    "    training_set=np.asarray(training_set).astype(\"float\")\n",
    "    initial_ginni = ginni(training_set)\n",
    "    return initial_ginni"
   ]
  },
  {
   "cell_type": "code",
   "execution_count": 4,
   "metadata": {},
   "outputs": [],
   "source": [
    "def calculateIG(parentGinni, currentGinni):\n",
    "    return (parentGinni-currentGinni)"
   ]
  },
  {
   "cell_type": "code",
   "execution_count": 5,
   "metadata": {},
   "outputs": [],
   "source": [
    "def ginni(training_set):\n",
    "    if(training_set.shape[0]==0):\n",
    "        return 0\n",
    "    training_set1=training_set[:,-1]\n",
    "    unique_elements, counts_elements = np.unique(training_set1, return_counts=True) # get the count and type of label in the rows\n",
    "    dic=dict(zip(unique_elements,counts_elements)) # create a dictionary with the label and count \n",
    "    p = []\n",
    "    for label in dic:\n",
    "        p.append(dic[label]/float(training_set1.shape[0])) # get the probability of every label into an array so that it is easy for numpy calculation\n",
    "    return 1-np.sum(np.multiply(p,p))"
   ]
  },
  {
   "cell_type": "code",
   "execution_count": 6,
   "metadata": {},
   "outputs": [],
   "source": [
    "def ginniVal(training_set, column_index, value):\n",
    "    training_set_left = [row for row in training_set if float(row[column_index]) >= value]\n",
    "    training_set_right = [row for row in training_set if float(row[column_index])< value]\n",
    "    training_set_left = np.asarray(training_set_left,dtype='float')\n",
    "    training_set_right = np.asarray(training_set_right,dtype='float')\n",
    "    p =float((training_set_left.shape[0])/(training_set_left.shape[0]+training_set_right.shape[0]))\n",
    "    return p*ginni(training_set_left)+(1-p)*ginni(training_set_right)"
   ]
  },
  {
   "cell_type": "code",
   "execution_count": 7,
   "metadata": {},
   "outputs": [],
   "source": [
    "def findSplit(training_set,featureList):\n",
    "    local_ginni=0\n",
    "    local_column=None\n",
    "    best_ginni=1\n",
    "    best_column=0\n",
    "    col_mean_final=0\n",
    "    bestIg=0\n",
    "    parentGinni=calculateInitialGinni(training_set)\n",
    "    \n",
    "    for col in featureList:\n",
    "        col_data= [float(row[col]) for row in training_set]\n",
    "#         print(\"Column data for \",col, \" is :\",col_data)\n",
    "        col_mean=float(np.sum(col_data)/len(col_data)) # get col_mean for the remaining rows\n",
    "        true_rows, false_rows= partition(training_set,col,col_mean)\n",
    "        if(len(true_rows) == 0 or len(false_rows)==0):\n",
    "            continue\n",
    "        local_ginni= ginniVal(training_set,col,col_mean)\n",
    "        localIg= calculateIG(parentGinni,local_ginni)\n",
    "        if localIg>= bestIg:\n",
    "            bestIg=localIg\n",
    "            best_ginni=local_ginni\n",
    "            best_column = col\n",
    "            col_mean_final=col_mean\n",
    "    return  bestIg,best_column,col_mean_final"
   ]
  },
  {
   "cell_type": "code",
   "execution_count": 8,
   "metadata": {},
   "outputs": [],
   "source": [
    "def partition(training_set, column_index, value):\n",
    "    true_rows= [row for row in training_set if float(row[column_index]) >= value]\n",
    "    false_rows = [row for row in training_set if float(row[column_index])< value]\n",
    "    return true_rows, false_rows"
   ]
  },
  {
   "cell_type": "code",
   "execution_count": 9,
   "metadata": {},
   "outputs": [],
   "source": [
    "# get the class of data in case it cant be split further i.e all the data in this particular class belong to\n",
    "# the same class. So we just take the first label and set it as the output label for the decision tree node\n",
    "def getClass(training_set, column_index,value):\n",
    "    true_label= None\n",
    "    false_label=None\n",
    "    true_rows= [row for row in training_set if float(row[column_index]) >= value]\n",
    "    false_rows = [row for row in training_set if float(row[column_index])< value]\n",
    "    \n",
    "    if len(true_rows)>0:\n",
    "#         true_rows=np.asarray(true_rows)\n",
    "        true_label = true_rows[0][-1]\n",
    "    if len(false_rows)>0:\n",
    "        false_label= false_rows[0][-1]\n",
    "        \n",
    "    if false_label==1:\n",
    "        false_label=\"class1\"\n",
    "    if true_label==0:\n",
    "        true_label=\"class0\"\n",
    "    if false_label==0:\n",
    "        false_label=\"class0\"\n",
    "    if true_label==1:\n",
    "        true_label=\"class1\"\n",
    "    if len(true_rows)> len(false_rows):\n",
    "        return true_label\n",
    "    else:\n",
    "        return false_label\n",
    "#     return true_label, false_label"
   ]
  },
  {
   "cell_type": "code",
   "execution_count": 10,
   "metadata": {},
   "outputs": [],
   "source": [
    "class DecisionTree():\n",
    "    def __init__(self):\n",
    "        self.tree = {}\n",
    "    def learn(self, training_set,index,featureList,features):\n",
    "        #implement this function\n",
    "        value=0\n",
    "        true_index=0\n",
    "        false_index=0\n",
    "        random_feature_list= random.sample(featureList,features)\n",
    "        gain,column_name,value = findSplit(training_set,random_feature_list)\n",
    "#         print(\"Value is::\",value,\"for column ::\",column_name)\n",
    "        #check terminating criteria with gini= 0 which means it is evenly being split\n",
    "        if gain==0:\n",
    "            return getClass(training_set, column_name, value)\n",
    "        true_rows, false_rows = partition(training_set,column_name,value)\n",
    "        \n",
    "        # Make the recursive call for both true and false rows and get the index\n",
    "        true_index = self.learn(true_rows, 2*index,featureList,features)\n",
    "        \n",
    "        false_index= self.learn(false_rows,2*index+1,featureList,features)\n",
    "        \n",
    "        #use the index the insert the data required into the tree\n",
    "       \n",
    "        self.tree[index]=[column_name,value,{\"true_rows\":true_index,\"false_rows\":false_index}]\n",
    "        return index\n",
    "    \n",
    "\n",
    "    def classify(self, test_instance):\n",
    "#         print(self.tree)\n",
    "        result = 0 # baseline: always classifies as 0\n",
    "        index=1 # root index\n",
    "        while 1:\n",
    "            value= self.tree[index]\n",
    "            column_num= value[0]\n",
    "            values=value[1]\n",
    "            if float(test_instance[column_num])>=float(values):\n",
    "                result= value[2][\"true_rows\"] # the third item in the tree is a dictionary that contains both the T and F ids\n",
    "            else:\n",
    "                result=value[2][\"false_rows\"]\n",
    "            if result==\"class1\" or result==\"class0\":\n",
    "                break\n",
    "            else:\n",
    "                index=result\n",
    "        if result==\"class1\":\n",
    "            result=\"1\"\n",
    "        else:\n",
    "            result=\"0\"\n",
    "        return result"
   ]
  },
  {
   "cell_type": "code",
   "execution_count": 11,
   "metadata": {},
   "outputs": [],
   "source": [
    "def reduceDataset(train,no_Elements):\n",
    "    # reduce the count of dataset to no_Elements\n",
    "    train= train.sample(n=no_Elements)\n",
    "    random_dataset= train.values\n",
    "    random_subset = train.iloc[:, :-1]\n",
    "    featureList=[i for i in range(random_subset.shape[1])]\n",
    "    #selected_features = random.sample(featureList,features)\n",
    "    train=train.values\n",
    "    return train,featureList"
   ]
  },
  {
   "cell_type": "code",
   "execution_count": 12,
   "metadata": {},
   "outputs": [],
   "source": [
    "def buildForest(train, features, count_trees, no_Elements):\n",
    "    forest=[]\n",
    "    for i in range(count_trees):\n",
    "        dataset,featureList= reduceDataset(train,no_Elements)\n",
    "#         featureList.sort()\n",
    "        train_dataset=dataset.tolist()\n",
    "        tree = DecisionTree()\n",
    "        tree.learn( train_dataset,1,featureList,features)\n",
    "        forest.append(tree)\n",
    "    return forest"
   ]
  },
  {
   "cell_type": "code",
   "execution_count": 13,
   "metadata": {},
   "outputs": [],
   "source": [
    "def getAccuracy(test, forest):\n",
    "    result_rows=[]\n",
    "    test=test.values.tolist()\n",
    "    for instance in test:\n",
    "        result_inst=[]\n",
    "        for tree in forest:\n",
    "            result=tree.classify(instance)\n",
    "            result_inst.append(result)\n",
    "        result_rows.append(result_inst)\n",
    "    final_result=[]\n",
    "    for i in range(len(result_rows)):\n",
    "        final_result.append(max(set(result_rows[i]), key=result_rows[i].count))\n",
    "    \n",
    "    count=0\n",
    "    \n",
    "    for i in range(len(final_result)):\n",
    "        if float(final_result[i])==(test[i][-1]):\n",
    "            count=count+1\n",
    "    print(\"Accuracy for own code  \",(count*100)/(len(final_result)))\n",
    "    return (count*100)/(len(final_result))"
   ]
  },
  {
   "cell_type": "code",
   "execution_count": 14,
   "metadata": {},
   "outputs": [],
   "source": [
    "def getAccuracyScikitLearn(i,count_trees,train,test):\n",
    "    clf = RandomForestClassifier(n_estimators=count_trees,max_features='sqrt')\n",
    "    train_labels=train.iloc[:,-1]\n",
    "    train_dataset=train.iloc[:,:-1]\n",
    "    test_labels=test.iloc[:,-1]\n",
    "    test_dataset=test.iloc[:,:-1]\n",
    "    clf.fit(train_dataset,train_labels)\n",
    "    label= clf.predict(test_dataset)\n",
    "    correct_count=np.count_nonzero(label ==test_labels)\n",
    "    accuracy= (correct_count*100)/((len(label)))\n",
    "    print(\"Accuracy of scikit learn \",accuracy)\n",
    "    return accuracy"
   ]
  },
  {
   "cell_type": "code",
   "execution_count": 15,
   "metadata": {},
   "outputs": [],
   "source": [
    "def random_forest():\n",
    "    df= pd.read_csv('spam.data.txt',header=None,delimiter=r\"\\s+\")\n",
    "    train, test = train_test_split(df, test_size=0.3)\n",
    "    no_Features= train.shape[1]\n",
    "    trimmed_features_count=int(math.sqrt(no_Features))\n",
    "    count_trees=20\n",
    "    no_elements=1500\n",
    "    X_axis=[]\n",
    "    Y_axis=[]\n",
    "    Z_axis=[]\n",
    "    own_time=0\n",
    "    scikit_time=0\n",
    "    count=0\n",
    "    for i in range(20,100,10):\n",
    "        print(\"Number of trees is \",i)\n",
    "        count=count+1\n",
    "        start=time.time()\n",
    "        forest=buildForest(train,trimmed_features_count,i,no_elements)\n",
    "        Y_axis.append(getAccuracy(test,forest))\n",
    "        end=time.time()\n",
    "        own_time+=(end-start)\n",
    "        print(\"Time taken for own \",(end-start))\n",
    "        X_axis.append(i)\n",
    "        start=time.time()\n",
    "        Z_axis.append(getAccuracyScikitLearn(trimmed_features_count,i,train,test))\n",
    "        end=time.time()\n",
    "        print(\"Time taken for scikit learn \",(end-start))\n",
    "        print()\n",
    "        scikit_time+=(end-start)\n",
    "    plt.plot(X_axis, Y_axis,color='b',label='accuracy')\n",
    "    plt.plot(X_axis,Z_axis,color='r',label='scikit-accuracy')\n",
    "    \n",
    "    plt.xlabel(' value of trees') \n",
    "    plt.ylabel('accuracy') \n",
    "    plt.title('accuracy vs  trees') \n",
    "    plt.legend()\n",
    "    plt.show()\n",
    "    print(\"Average time to execute scikit learn algo is \",scikit_time/count)\n",
    "    print(\"Average time to execute own algo is \",own_time/count)"
   ]
  },
  {
   "cell_type": "code",
   "execution_count": 16,
   "metadata": {},
   "outputs": [
    {
     "name": "stdout",
     "output_type": "stream",
     "text": [
      "Number of trees is  20\n",
      "Accuracy for own code   94.71397538015931\n",
      "Time taken for own  9.585052967071533\n",
      "Accuracy of scikit learn  94.20709630702389\n",
      "Time taken for scikit learn  0.07396602630615234\n",
      "\n",
      "Number of trees is  30\n",
      "Accuracy for own code   94.13468501086169\n",
      "Time taken for own  14.23909854888916\n",
      "Accuracy of scikit learn  94.49674149167271\n",
      "Time taken for scikit learn  0.10676693916320801\n",
      "\n",
      "Number of trees is  40\n",
      "Accuracy for own code   95.29326574945692\n",
      "Time taken for own  18.9206702709198\n",
      "Accuracy of scikit learn  94.78638667632151\n",
      "Time taken for scikit learn  0.149245023727417\n",
      "\n",
      "Number of trees is  50\n",
      "Accuracy for own code   94.64156408399711\n",
      "Time taken for own  22.991937398910522\n",
      "Accuracy of scikit learn  94.71397538015931\n",
      "Time taken for scikit learn  0.2072293758392334\n",
      "\n",
      "Number of trees is  60\n",
      "Accuracy for own code   95.22085445329472\n",
      "Time taken for own  27.247628450393677\n",
      "Accuracy of scikit learn  95.00362056480812\n",
      "Time taken for scikit learn  0.23070216178894043\n",
      "\n",
      "Number of trees is  70\n",
      "Accuracy for own code   94.71397538015931\n",
      "Time taken for own  32.26071739196777\n",
      "Accuracy of scikit learn  94.78638667632151\n",
      "Time taken for scikit learn  0.2872328758239746\n",
      "\n",
      "Number of trees is  80\n",
      "Accuracy for own code   94.78638667632151\n",
      "Time taken for own  41.68903589248657\n",
      "Accuracy of scikit learn  94.78638667632151\n",
      "Time taken for scikit learn  0.437131404876709\n",
      "\n",
      "Number of trees is  90\n",
      "Accuracy for own code   94.64156408399711\n",
      "Time taken for own  50.29197812080383\n",
      "Accuracy of scikit learn  94.93120926864592\n",
      "Time taken for scikit learn  0.4869375228881836\n",
      "\n"
     ]
    },
    {
     "data": {
      "image/png": "[encoded data removed]",
      "text/plain": [
       "<Figure size 432x288 with 1 Axes>"
      ]
     },
     "metadata": {
      "needs_background": "light"
     },
     "output_type": "display_data"
    },
    {
     "name": "stdout",
     "output_type": "stream",
     "text": [
      "Average time to execute scikit learn algo is  0.2474014163017273\n",
      "Average time to execute own algo is  27.15326488018036\n"
     ]
    }
   ],
   "source": [
    "if __name__ == \"__main__\":\n",
    "    random_forest()"
   ]
  }
 ],
 "metadata": {
  "kernelspec": {
   "display_name": "Python 3",
   "language": "python",
   "name": "python3"
  },
  "language_info": {
   "codemirror_mode": {
    "name": "ipython",
    "version": 3
   },
   "file_extension": ".py",
   "mimetype": "text/x-python",
   "name": "python",
   "nbconvert_exporter": "python",
   "pygments_lexer": "ipython3",
   "version": "3.6.8"
  }
 },
 "nbformat": 4,
 "nbformat_minor": 2
}
