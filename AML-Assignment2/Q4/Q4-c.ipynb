{
 "cells": [
  {
   "cell_type": "markdown",
   "metadata": {},
   "source": [
    "This answers the true or false questions based on the parameter C(the error penalizer)  and also for varying degree of polynomial kernel(2,5) where gamma and coeff0 are set to 1 for all the questions based on the kernel equation. The answer to the T/F stands as F,T,F,F"
   ]
  },
  {
   "cell_type": "code",
   "execution_count": 1,
   "metadata": {},
   "outputs": [],
   "source": [
    "import pandas as  pd\n",
    "import numpy as np\n",
    "from sklearn.svm import SVC"
   ]
  },
  {
   "cell_type": "code",
   "execution_count": 2,
   "metadata": {},
   "outputs": [],
   "source": [
    "def getTrainingError(clf,features,labels):\n",
    "    test_set_lables=clf.predict(features)\n",
    "    correct_count=np.count_nonzero(test_set_lables == labels)\n",
    "    accuracy= (correct_count*100)/((len(labels)))\n",
    "    return (100-accuracy)"
   ]
  },
  {
   "cell_type": "code",
   "execution_count": 3,
   "metadata": {},
   "outputs": [],
   "source": [
    "def getTestingError(clf,test_features,test_labels):\n",
    "    test_set_lables=clf.predict(test_features)\n",
    "    correct_count=np.count_nonzero(test_set_lables == test_labels)\n",
    "    accuracy= (correct_count*100)/((len(test_labels)))\n",
    "    return (100-accuracy)"
   ]
  },
  {
   "cell_type": "code",
   "execution_count": 4,
   "metadata": {},
   "outputs": [],
   "source": [
    "def getTheGreaterDegree(error_rate,features,labels,test_features,test_labels):\n",
    "    final_result=2\n",
    "    final_value=0\n",
    "    result=0\n",
    "    \n",
    "    for q in [2,5]:\n",
    "        clf = SVC(gamma=1,C=error_rate,kernel='poly',degree=q,coef0=1)\n",
    "        clf.fit(features, labels)\n",
    "        \n",
    "        if error_rate==0.0001 or error_rate==0.01:\n",
    "            result=getTrainingError(clf,features,labels)\n",
    "            \n",
    "        if error_rate==1:\n",
    "            result= getTestingError(clf,test_features,test_labels)\n",
    "            \n",
    "        if error_rate==0.001:\n",
    "            result= len(clf.support_vectors_)\n",
    "            \n",
    "        print(\"For \",q,\" we get the result as \",result,\" for error_rate of \",error_rate)\n",
    "        \n",
    "        if result> final_value:\n",
    "            final_value= result\n",
    "            final_result=q\n",
    "\n",
    "    return final_result"
   ]
  },
  {
   "cell_type": "code",
   "execution_count": 5,
   "metadata": {},
   "outputs": [],
   "source": [
    "df= pd.read_csv('features.train',header=None,delimiter=r\"\\s+\")\n",
    "df1 = pd.read_csv('features.test', header=None, delimiter=r\"\\s+\")"
   ]
  },
  {
   "cell_type": "code",
   "execution_count": 6,
   "metadata": {},
   "outputs": [
    {
     "data": {
      "text/html": [
       "<div>\n",
       "<style scoped>\n",
       "    .dataframe tbody tr th:only-of-type {\n",
       "        vertical-align: middle;\n",
       "    }\n",
       "\n",
       "    .dataframe tbody tr th {\n",
       "        vertical-align: top;\n",
       "    }\n",
       "\n",
       "    .dataframe thead th {\n",
       "        text-align: right;\n",
       "    }\n",
       "</style>\n",
       "<table border=\"1\" class=\"dataframe\">\n",
       "  <thead>\n",
       "    <tr style=\"text-align: right;\">\n",
       "      <th></th>\n",
       "      <th>0</th>\n",
       "      <th>1</th>\n",
       "      <th>2</th>\n",
       "    </tr>\n",
       "  </thead>\n",
       "  <tbody>\n",
       "    <tr>\n",
       "      <th>0</th>\n",
       "      <td>6.0</td>\n",
       "      <td>0.341092</td>\n",
       "      <td>-4.528937</td>\n",
       "    </tr>\n",
       "    <tr>\n",
       "      <th>1</th>\n",
       "      <td>5.0</td>\n",
       "      <td>0.444131</td>\n",
       "      <td>-5.496812</td>\n",
       "    </tr>\n",
       "    <tr>\n",
       "      <th>2</th>\n",
       "      <td>4.0</td>\n",
       "      <td>0.231002</td>\n",
       "      <td>-2.886750</td>\n",
       "    </tr>\n",
       "    <tr>\n",
       "      <th>3</th>\n",
       "      <td>7.0</td>\n",
       "      <td>0.200275</td>\n",
       "      <td>-3.534375</td>\n",
       "    </tr>\n",
       "    <tr>\n",
       "      <th>4</th>\n",
       "      <td>3.0</td>\n",
       "      <td>0.291936</td>\n",
       "      <td>-4.352062</td>\n",
       "    </tr>\n",
       "  </tbody>\n",
       "</table>\n",
       "</div>"
      ],
      "text/plain": [
       "     0         1         2\n",
       "0  6.0  0.341092 -4.528937\n",
       "1  5.0  0.444131 -5.496812\n",
       "2  4.0  0.231002 -2.886750\n",
       "3  7.0  0.200275 -3.534375\n",
       "4  3.0  0.291936 -4.352062"
      ]
     },
     "execution_count": 6,
     "metadata": {},
     "output_type": "execute_result"
    }
   ],
   "source": [
    "df.head()"
   ]
  },
  {
   "cell_type": "code",
   "execution_count": null,
   "metadata": {},
   "outputs": [],
   "source": []
  },
  {
   "cell_type": "code",
   "execution_count": 7,
   "metadata": {},
   "outputs": [],
   "source": [
    "def getDetails(dataset):\n",
    "    labels= dataset[:,0]\n",
    "    intensity= dataset[:,1]\n",
    "    symmetry= dataset[:,2]\n",
    "    features=np.column_stack((intensity,symmetry))\n",
    "    return labels, features"
   ]
  },
  {
   "cell_type": "code",
   "execution_count": 8,
   "metadata": {},
   "outputs": [
    {
     "name": "stdout",
     "output_type": "stream",
     "text": [
      "(7291, 3)\n",
      "(1561, 3)\n"
     ]
    }
   ],
   "source": [
    "dataset=df.values\n",
    "print(dataset.shape)\n",
    "dataset = dataset[np.logical_or(dataset[:,0]==1,dataset[:,0]==5)]\n",
    "print(dataset.shape)\n"
   ]
  },
  {
   "cell_type": "code",
   "execution_count": 9,
   "metadata": {},
   "outputs": [
    {
     "name": "stdout",
     "output_type": "stream",
     "text": [
      "(2007, 3)\n",
      "(424, 3)\n"
     ]
    }
   ],
   "source": [
    "test_dataset= df1.values\n",
    "print(test_dataset.shape)\n",
    "test_dataset = test_dataset[np.logical_or(test_dataset[:,0]==1,test_dataset[:,0]==5)]\n",
    "print(test_dataset.shape)\n",
    "test_labels, test_features= getDetails(test_dataset)"
   ]
  },
  {
   "cell_type": "code",
   "execution_count": 10,
   "metadata": {},
   "outputs": [
    {
     "name": "stdout",
     "output_type": "stream",
     "text": [
      "For  2  we get the result as  0.8968609865470825  for error_rate of  0.0001\n",
      "For  5  we get the result as  0.44843049327354834  for error_rate of  0.0001\n",
      "Answer is \n",
      "F\n",
      "\n",
      "For  2  we get the result as  76  for error_rate of  0.001\n",
      "For  5  we get the result as  25  for error_rate of  0.001\n",
      "Answer is \n",
      "T\n",
      "\n",
      "For  2  we get the result as  0.44843049327354834  for error_rate of  0.01\n",
      "For  5  we get the result as  0.3843689942344639  for error_rate of  0.01\n",
      "Answer is \n",
      "F\n",
      "\n",
      "For  2  we get the result as  1.8867924528301927  for error_rate of  1\n",
      "For  5  we get the result as  2.1226415094339615  for error_rate of  1\n",
      "Answer is \n",
      "F\n",
      "\n"
     ]
    }
   ],
   "source": [
    "labels, features = getDetails(dataset)\n",
    "for error_rate in [0.0001,0.001,0.01,1]:\n",
    "    result= getTheGreaterDegree(error_rate,features,labels,test_features,test_labels)\n",
    "    print(\"Answer is \")\n",
    "    if error_rate==0.0001 or error_rate==0.01:\n",
    "        if result==5:\n",
    "            print(\"T\")\n",
    "        else:\n",
    "            print(\"F\")\n",
    "    if error_rate==0.001:\n",
    "        if result==5:\n",
    "            print(\"F\")\n",
    "        else:\n",
    "            print(\"T\")\n",
    "    if error_rate==1:\n",
    "        if result==5:\n",
    "            print(\"F\")\n",
    "        else:\n",
    "            print(\"T\")\n",
    "    print()\n",
    "    #print(result,\" is greater\")\n",
    "    #print()"
   ]
  },
  {
   "cell_type": "code",
   "execution_count": null,
   "metadata": {},
   "outputs": [],
   "source": []
  },
  {
   "cell_type": "code",
   "execution_count": null,
   "metadata": {},
   "outputs": [],
   "source": []
  },
  {
   "cell_type": "code",
   "execution_count": null,
   "metadata": {},
   "outputs": [],
   "source": []
  },
  {
   "cell_type": "code",
   "execution_count": null,
   "metadata": {},
   "outputs": [],
   "source": []
  },
  {
   "cell_type": "code",
   "execution_count": null,
   "metadata": {},
   "outputs": [],
   "source": []
  }
 ],
 "metadata": {
  "kernelspec": {
   "display_name": "Python 3",
   "language": "python",
   "name": "python3"
  },
  "language_info": {
   "codemirror_mode": {
    "name": "ipython",
    "version": 3
   },
   "file_extension": ".py",
   "mimetype": "text/x-python",
   "name": "python",
   "nbconvert_exporter": "python",
   "pygments_lexer": "ipython3",
   "version": "3.6.8"
  }
 },
 "nbformat": 4,
 "nbformat_minor": 2
}
