{
 "cells": [
  {
   "cell_type": "markdown",
   "metadata": {},
   "source": [
    "This function takes as input as a linear kernel and gives accuracy of 97.8  with the number of support vectors as 18 for 50 training samples. \n",
    "Gives accuracy of 98.113  with the number of support vectors as 24 for 100 training samples. \n",
    "Gives accuracy of 98.349  with the number of support vectors as 36 for 200 training samples. \n",
    "Gives accuracy of 98.113  with the number of support vectors as 62 for 800 training samples"
   ]
  },
  {
   "cell_type": "code",
   "execution_count": 1,
   "metadata": {},
   "outputs": [],
   "source": [
    "import pandas as  pd\n",
    "import numpy as np\n",
    "from sklearn.svm import SVC"
   ]
  },
  {
   "cell_type": "code",
   "execution_count": 2,
   "metadata": {},
   "outputs": [],
   "source": [
    "df= pd.read_csv('features.train',header=None,delimiter=r\"\\s+\")\n",
    "df1 = pd.read_csv('features.test', header=None, delimiter=r\"\\s+\")"
   ]
  },
  {
   "cell_type": "code",
   "execution_count": 3,
   "metadata": {},
   "outputs": [
    {
     "data": {
      "text/html": [
       "<div>\n",
       "<style scoped>\n",
       "    .dataframe tbody tr th:only-of-type {\n",
       "        vertical-align: middle;\n",
       "    }\n",
       "\n",
       "    .dataframe tbody tr th {\n",
       "        vertical-align: top;\n",
       "    }\n",
       "\n",
       "    .dataframe thead th {\n",
       "        text-align: right;\n",
       "    }\n",
       "</style>\n",
       "<table border=\"1\" class=\"dataframe\">\n",
       "  <thead>\n",
       "    <tr style=\"text-align: right;\">\n",
       "      <th></th>\n",
       "      <th>0</th>\n",
       "      <th>1</th>\n",
       "      <th>2</th>\n",
       "    </tr>\n",
       "  </thead>\n",
       "  <tbody>\n",
       "    <tr>\n",
       "      <th>0</th>\n",
       "      <td>6.0</td>\n",
       "      <td>0.341092</td>\n",
       "      <td>-4.528937</td>\n",
       "    </tr>\n",
       "    <tr>\n",
       "      <th>1</th>\n",
       "      <td>5.0</td>\n",
       "      <td>0.444131</td>\n",
       "      <td>-5.496812</td>\n",
       "    </tr>\n",
       "    <tr>\n",
       "      <th>2</th>\n",
       "      <td>4.0</td>\n",
       "      <td>0.231002</td>\n",
       "      <td>-2.886750</td>\n",
       "    </tr>\n",
       "    <tr>\n",
       "      <th>3</th>\n",
       "      <td>7.0</td>\n",
       "      <td>0.200275</td>\n",
       "      <td>-3.534375</td>\n",
       "    </tr>\n",
       "    <tr>\n",
       "      <th>4</th>\n",
       "      <td>3.0</td>\n",
       "      <td>0.291936</td>\n",
       "      <td>-4.352062</td>\n",
       "    </tr>\n",
       "  </tbody>\n",
       "</table>\n",
       "</div>"
      ],
      "text/plain": [
       "     0         1         2\n",
       "0  6.0  0.341092 -4.528937\n",
       "1  5.0  0.444131 -5.496812\n",
       "2  4.0  0.231002 -2.886750\n",
       "3  7.0  0.200275 -3.534375\n",
       "4  3.0  0.291936 -4.352062"
      ]
     },
     "execution_count": 3,
     "metadata": {},
     "output_type": "execute_result"
    }
   ],
   "source": [
    "df.head()"
   ]
  },
  {
   "cell_type": "code",
   "execution_count": 4,
   "metadata": {},
   "outputs": [],
   "source": [
    "clf = SVC(gamma='auto',kernel='linear',degree=1)"
   ]
  },
  {
   "cell_type": "code",
   "execution_count": 5,
   "metadata": {},
   "outputs": [],
   "source": [
    "def getDetails(dataset):\n",
    "    labels= dataset[:,0]\n",
    "    intensity= dataset[:,1]\n",
    "    symmetry= dataset[:,2]\n",
    "    features=np.column_stack((intensity,symmetry))\n",
    "    return labels, features"
   ]
  },
  {
   "cell_type": "code",
   "execution_count": 6,
   "metadata": {},
   "outputs": [
    {
     "name": "stdout",
     "output_type": "stream",
     "text": [
      "(7291, 3)\n"
     ]
    }
   ],
   "source": [
    "dataset=df.values\n",
    "print(dataset.shape)\n",
    "dataset = dataset[np.logical_or(dataset[:,0]==1,dataset[:,0]==5)]\n",
    "#print(dataset.shape)\n"
   ]
  },
  {
   "cell_type": "code",
   "execution_count": 7,
   "metadata": {},
   "outputs": [],
   "source": [
    "test_dataset= df1.values\n",
    "#print(test_dataset.shape)\n",
    "test_dataset = test_dataset[np.logical_or(test_dataset[:,0]==1,test_dataset[:,0]==5)]\n",
    "#print(test_dataset.shape)\n",
    "test_labels, test_features= getDetails(test_dataset)"
   ]
  },
  {
   "cell_type": "code",
   "execution_count": 8,
   "metadata": {},
   "outputs": [
    {
     "name": "stdout",
     "output_type": "stream",
     "text": [
      "Accuracy for  50  number of training samples is  98.11320754716981\n",
      "Number of support vectors is  2\n",
      "Accuracy for  100  number of training samples is  98.11320754716981\n",
      "Number of support vectors is  4\n",
      "Accuracy for  200  number of training samples is  98.11320754716981\n",
      "Number of support vectors is  8\n",
      "Accuracy for  800  number of training samples is  98.11320754716981\n",
      "Number of support vectors is  14\n"
     ]
    }
   ],
   "source": [
    "for i in [50,100,200,800]:\n",
    "    #reduce the size of the training dataset \n",
    "    reduced_dataset= dataset[0:i , :]\n",
    "    labels, features = getDetails(reduced_dataset)\n",
    "    # fit the testing set\n",
    "    clf.fit(features, labels)\n",
    "    test_set_lables=clf.predict(test_features)\n",
    "    correct_count=np.count_nonzero(test_set_lables == test_labels)\n",
    "    #calculate the accuracy\n",
    "    accuracy= (correct_count*100)/((test_dataset.shape[0]))\n",
    "    print(\"Accuracy for \",i,\" number of training samples is \",accuracy)\n",
    "    print(\"Number of support vectors is \",len(clf.support_vectors_))"
   ]
  }
 ],
 "metadata": {
  "kernelspec": {
   "display_name": "Python 3",
   "language": "python",
   "name": "python3"
  },
  "language_info": {
   "codemirror_mode": {
    "name": "ipython",
    "version": 3
   },
   "file_extension": ".py",
   "mimetype": "text/x-python",
   "name": "python",
   "nbconvert_exporter": "python",
   "pygments_lexer": "ipython3",
   "version": "3.6.8"
  }
 },
 "nbformat": 4,
 "nbformat_minor": 2
}
